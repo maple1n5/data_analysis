{
 "cells": [
  {
   "cell_type": "markdown",
   "metadata": {
    "collapsed": true
   },
   "source": [
    "# NumPy 数据类型\n",
    "\n",
    "NumPy 中 `dtype` 指的是数组元素的数据类型。以下是 NumPy 支持的一些数据类型：\n",
    "- `bool_`：布尔类型\n",
    "- `int_`：默认整数，相当于 c 中的 long，通常为 int32\n",
    "- `intc`：相当于 c 的 int，通常为 int32\n",
    "- `intp`：用于索引的整数，相当于 c 的 size_t，通常为 int64\n",
    "- 带数字 `int`：int8、int16、int32、int64、uint8...\n",
    "- `float_`：_float64 缩写\n",
    "- 带数字 `float`：float16、float32、float64\n",
    "- `complex`: 复数，默认为双精度 64 位"
   ]
  },
  {
   "cell_type": "markdown",
   "metadata": {
    "pycharm": {
     "name": "#%%\n"
    }
   },
   "source": [
    "# ndarray 属性\n",
    "\n",
    "ndarray 属性：\n",
    "- ndim：维度\n",
    "- shape：每个维度的长度\n",
    "- size：总元素个数\n",
    "- dtype：类型\n",
    "- itemsize：每个元素占用的存储空间，字节数\n",
    "- data：存储 array 的内存地址，一般使用索引来访问，所以用不到该属性"
   ]
  },
  {
   "cell_type": "code",
   "execution_count": 5,
   "metadata": {
    "pycharm": {
     "is_executing": true
    }
   },
   "outputs": [
    {
     "name": "stdout",
     "output_type": "stream",
     "text": [
      "[[ 0  1  2  3  4]\n",
      " [ 5  6  7  8  9]\n",
      " [10 11 12 13 14]]\n",
      "dim: 2\n",
      "shape: (3, 5)\n",
      "size: 15\n",
      "dtype: int32\n",
      "itemsize: 4\n",
      "data: <memory at 0x000002B1A73C7A00>\n"
     ]
    }
   ],
   "source": [
    "import numpy as np\n",
    "\n",
    "n1 = np.arange(15).reshape(3, 5)\n",
    "print(n1)\n",
    "\n",
    "print('dim:', n1.ndim)\n",
    "print('shape:', n1.shape)\n",
    "print('size:', n1.size)\n",
    "print('dtype:', n1.dtype)\n",
    "print('itemsize:', n1.itemsize)\n",
    "print('data:', n1.data)"
   ]
  }
 ],
 "metadata": {
  "kernelspec": {
   "display_name": "Python 3 (ipykernel)",
   "language": "python",
   "name": "python3"
  },
  "language_info": {
   "codemirror_mode": {
    "name": "ipython",
    "version": 3
   },
   "file_extension": ".py",
   "mimetype": "text/x-python",
   "name": "python",
   "nbconvert_exporter": "python",
   "pygments_lexer": "ipython3",
   "version": "3.8.13"
  }
 },
 "nbformat": 4,
 "nbformat_minor": 1
}