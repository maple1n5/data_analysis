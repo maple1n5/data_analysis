{
 "cells": [
  {
   "cell_type": "markdown",
   "metadata": {
    "collapsed": true
   },
   "source": [
    "# Numpy 增删改查"
   ]
  },
  {
   "cell_type": "code",
   "execution_count": 5,
   "metadata": {
    "pycharm": {
     "name": "#%%\n"
    }
   },
   "outputs": [
    {
     "name": "stdout",
     "output_type": "stream",
     "text": [
      "[[0 1 2]\n",
      " [3 4 5]\n",
      " [6 7 8]]\n",
      "[[0 1 2]\n",
      " [3 4 5]\n",
      " [6 7 8]]\n"
     ]
    }
   ],
   "source": [
    "import numpy as np\n",
    "\n",
    "# 新增\n",
    "n1 = np.arange(9).reshape([3, 3])\n",
    "n2 = np.arange(9).reshape([3, 3])\n",
    "print(n1)\n",
    "print(n2)"
   ]
  },
  {
   "cell_type": "code",
   "execution_count": 2,
   "metadata": {},
   "outputs": [
    {
     "name": "stdout",
     "output_type": "stream",
     "text": [
      "[[0 1 2 0 1 2]\n",
      " [3 4 5 3 4 5]\n",
      " [6 7 8 6 7 8]]\n",
      "------ hstack ------\n",
      "[[0 1 2]\n",
      " [3 4 5]\n",
      " [6 7 8]\n",
      " [0 1 2]\n",
      " [3 4 5]\n",
      " [6 7 8]]\n",
      "------ vstack ------\n"
     ]
    }
   ],
   "source": [
    "# 垂直增加\n",
    "print(np.hstack((n1, n2)))\n",
    "print('------ hstack ------')\n",
    "# 水平增加\n",
    "print(np.vstack((n1, n2)))\n",
    "print('------ vstack ------')"
   ]
  },
  {
   "cell_type": "code",
   "execution_count": 3,
   "metadata": {
    "pycharm": {
     "name": "#%%\n"
    }
   },
   "outputs": [
    {
     "name": "stdout",
     "output_type": "stream",
     "text": [
      "[[0 1 2]\n",
      " [3 4 5]\n",
      " [6 7 8]]\n",
      "------ n3 ------\n",
      "[[0 1 2]\n",
      " [3 4 5]]\n",
      "------ n3 delete ------\n",
      "[[0 2]\n",
      " [3 5]\n",
      " [6 8]]\n",
      "------ n3 delete ------\n",
      "[[0]\n",
      " [3]\n",
      " [6]]\n",
      "------ n3 delete ------\n"
     ]
    }
   ],
   "source": [
    "# 删除\n",
    "n3 = np.arange(9).reshape([3, 3])\n",
    "print(n3)\n",
    "print('------ n3 ------')\n",
    "# 删除索引为 2 的一列\n",
    "print(np.delete(n3, 2, axis=0))\n",
    "print('------ n3 delete ------')\n",
    "# 删除索引为 1 的行\n",
    "print(np.delete(n3, 1, axis=1))\n",
    "print('------ n3 delete ------')\n",
    "# 删除索引为 1 2 的行\n",
    "print(np.delete(n3, (1, 2), axis=1))\n",
    "print('------ n3 delete ------')"
   ]
  },
  {
   "cell_type": "code",
   "execution_count": 4,
   "metadata": {},
   "outputs": [
    {
     "name": "stdout",
     "output_type": "stream",
     "text": [
      "[[0 1]\n",
      " [2 3]]\n",
      "------ n4 ------\n",
      "[[0 1]\n",
      " [0 0]]\n",
      "------ n4 ------\n",
      "[[0 1]\n",
      " [0 5]]\n",
      "------ n4 ------\n"
     ]
    }
   ],
   "source": [
    "# 修改\n",
    "n4 = np.arange(4).reshape(2, 2)\n",
    "print(n4)\n",
    "print('------ n4 ------')\n",
    "# 修改二行的值\n",
    "n4[1] = [0, 0]\n",
    "print(n4)\n",
    "print('------ n4 ------')\n",
    "# 修改具体的值\n",
    "n4[1, 1] = 5\n",
    "print(n4)\n",
    "print('------ n4 ------')"
   ]
  },
  {
   "cell_type": "code",
   "execution_count": 6,
   "metadata": {},
   "outputs": [
    {
     "name": "stdout",
     "output_type": "stream",
     "text": [
      "[0 1 2 3 4 5 6 7 8 9]\n",
      "[0 0 0 0 0 0 2 2 2 2]\n",
      "------ n5 ------\n",
      "(array([6, 7, 8, 9], dtype=int64),)\n"
     ]
    }
   ],
   "source": [
    "# 查询\n",
    "# where\n",
    "n5 = np.arange(10)\n",
    "print(n5)\n",
    "# 大于 5 的值改为 2，否则改为 0\n",
    "print(np.where(n5 > 5, 2, 0))\n",
    "print('------ n5 ------')\n",
    "\n",
    "# 不指定值，则输出元素的坐标\n",
    "print(np.where(n5 > 5))"
   ]
  }
 ],
 "metadata": {
  "kernelspec": {
   "display_name": "Python 3 (ipykernel)",
   "language": "python",
   "name": "python3"
  },
  "language_info": {
   "codemirror_mode": {
    "name": "ipython",
    "version": 3
   },
   "file_extension": ".py",
   "mimetype": "text/x-python",
   "name": "python",
   "nbconvert_exporter": "python",
   "pygments_lexer": "ipython3",
   "version": "3.9.7"
  }
 },
 "nbformat": 4,
 "nbformat_minor": 1
}