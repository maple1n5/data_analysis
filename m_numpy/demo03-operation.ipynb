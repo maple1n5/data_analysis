{
 "cells": [
  {
   "cell_type": "markdown",
   "metadata": {
    "collapsed": true,
    "pycharm": {
     "is_executing": true
    }
   },
   "source": [
    "# NumPy 运算"
   ]
  },
  {
   "cell_type": "markdown",
   "metadata": {
    "pycharm": {
     "name": "#%%\n"
    }
   },
   "source": [
    "## 加减乘除"
   ]
  },
  {
   "cell_type": "code",
   "execution_count": 8,
   "metadata": {},
   "outputs": [
    {
     "name": "stdout",
     "output_type": "stream",
     "text": [
      "[4 6]\n",
      "[-2 -2]\n",
      "[3 8]\n",
      "[0.33333333 0.5       ]\n"
     ]
    }
   ],
   "source": [
    "import numpy as np\n",
    "\n",
    "n1 = np.array([1, 2])\n",
    "n2 = np.array([3, 4])\n",
    "print(n1 + n2)\n",
    "print(n1 - n2)\n",
    "print(n1 * n2)\n",
    "print(n1 / n2)"
   ]
  },
  {
   "cell_type": "code",
   "execution_count": 3,
   "metadata": {},
   "outputs": [
    {
     "name": "stdout",
     "output_type": "stream",
     "text": [
      "[ 5 14]\n"
     ]
    }
   ],
   "source": [
    "# +=\n",
    "n2 += n1\n",
    "print(n2)"
   ]
  },
  {
   "cell_type": "code",
   "execution_count": 4,
   "metadata": {},
   "outputs": [
    {
     "name": "stdout",
     "output_type": "stream",
     "text": [
      "[ 5 28]\n"
     ]
    }
   ],
   "source": [
    "# *=\n",
    "n2 *= n1\n",
    "print(n2)"
   ]
  },
  {
   "cell_type": "code",
   "execution_count": 5,
   "metadata": {},
   "outputs": [
    {
     "name": "stdout",
     "output_type": "stream",
     "text": [
      "[ 1 16]\n"
     ]
    }
   ],
   "source": [
    "# ** 幂运算\n",
    "n3 = np.array([1, 2])\n",
    "n4 = np.array([3, 4])\n",
    "print(n3 ** n4)  # [1, 16]  1^3 2^4"
   ]
  },
  {
   "cell_type": "code",
   "execution_count": 6,
   "metadata": {},
   "outputs": [
    {
     "name": "stdout",
     "output_type": "stream",
     "text": [
      "[1. 2. 3. 4. 5. 6. 7. 8. 9.]\n"
     ]
    }
   ],
   "source": [
    "# 标量运算\n",
    "# 标量：单独的数； 向量：一组数； 标量运算理解为：向量和标量之间的运算，比如把一组数由 m 单位换成 km，那么需要把一组数除以一个数（1000）\n",
    "n3 = np.linspace(1000, 9000, num=9, dtype=int)\n",
    "print(n3 / 1000)"
   ]
  },
  {
   "cell_type": "code",
   "execution_count": 9,
   "metadata": {},
   "outputs": [
    {
     "name": "stdout",
     "output_type": "stream",
     "text": [
      "[False False]\n",
      "[False False]\n",
      "[ True  True]\n",
      "[ True  True]\n"
     ]
    }
   ],
   "source": [
    "# 比较运算\n",
    "n5 = np.array([1, 2])\n",
    "n6 = np.array([3, 4])\n",
    "print(n5 > n6)  # [False False]\n",
    "print(n5 == n6)  # [False False]\n",
    "print(n5 <= n6)  # [True True]\n",
    "print(n5 != n6)  # [True True]"
   ]
  },
  {
   "cell_type": "code",
   "execution_count": 10,
   "metadata": {},
   "outputs": [
    {
     "name": "stdout",
     "output_type": "stream",
     "text": [
      "[[19 22]\n",
      " [43 50]]\n",
      "[[19 22]\n",
      " [43 50]]\n"
     ]
    }
   ],
   "source": [
    "A = np.array([[1, 2], [3, 4]])  # 2x2 matrix\n",
    "B = np.array([[5, 6], [7, 8]])  # 2x2 matrix\n",
    "\"\"\"\n",
    "1 2   5 6\n",
    "3 4   7 8\n",
    "\n",
    "1 * 5 + 2 * 7 = 19\n",
    "1 * 6 + 2 * 8 = 22\n",
    "3 * 5 + 4 * 7 = 43\n",
    "3 * 6 + 4 * 8 = 50\n",
    "\"\"\"\n",
    "# 矩阵乘\n",
    "print(A @ B)\n",
    "print(A.dot(B))"
   ]
  }
 ],
 "metadata": {
  "kernelspec": {
   "display_name": "Python 3 (ipykernel)",
   "language": "python",
   "name": "python3"
  },
  "language_info": {
   "codemirror_mode": {
    "name": "ipython",
    "version": 3
   },
   "file_extension": ".py",
   "mimetype": "text/x-python",
   "name": "python",
   "nbconvert_exporter": "python",
   "pygments_lexer": "ipython3",
   "version": "3.8.13"
  }
 },
 "nbformat": 4,
 "nbformat_minor": 1
}