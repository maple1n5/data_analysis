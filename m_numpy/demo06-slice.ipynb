{
 "cells": [
  {
   "cell_type": "markdown",
   "metadata": {
    "collapsed": true,
    "pycharm": {
     "name": "#%% md\n"
    }
   },
   "source": [
    "# Numpy 切片"
   ]
  },
  {
   "cell_type": "code",
   "execution_count": 1,
   "metadata": {
    "pycharm": {
     "is_executing": true,
     "name": "#%%\n"
    }
   },
   "outputs": [
    {
     "name": "stdout",
     "output_type": "stream",
     "text": [
      "[[9 6 6]\n",
      " [8 7 8]\n",
      " [5 4 5]]\n",
      "[9 6 6]\n",
      "6\n",
      "6\n",
      "[[9 6 6]\n",
      " [8 7 8]]\n",
      "[[9 6 6]]\n"
     ]
    }
   ],
   "source": [
    "import numpy as np\n",
    "\n",
    "# index\n",
    "n1 = np.random.randint(1, 10, [3, 3])\n",
    "print(n1)\n",
    "# 获取第一列\n",
    "print(n1[0])\n",
    "# 获取第一列中的第二个值\n",
    "print(n1[0][1])\n",
    "print(n1[0, 1])\n",
    "\n",
    "# slice\n",
    "# 获取前两列\n",
    "print(n1[0:2])\n",
    "# start stop step\n",
    "print(n1[0:2:2])"
   ]
  }
 ],
 "metadata": {
  "kernelspec": {
   "display_name": "Python 3 (ipykernel)",
   "language": "python",
   "name": "python3"
  },
  "language_info": {
   "codemirror_mode": {
    "name": "ipython",
    "version": 3
   },
   "file_extension": ".py",
   "mimetype": "text/x-python",
   "name": "python",
   "nbconvert_exporter": "python",
   "pygments_lexer": "ipython3",
   "version": "3.8.13"
  }
 },
 "nbformat": 4,
 "nbformat_minor": 1
}