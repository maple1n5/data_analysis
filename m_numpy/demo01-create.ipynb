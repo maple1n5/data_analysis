{
 "cells": [
  {
   "cell_type": "markdown",
   "metadata": {
    "pycharm": {
     "name": "#%% md\n"
    }
   },
   "source": [
    "# ndarray 创建\n",
    "\n",
    "## 基于 `array()` 创建"
   ]
  },
  {
   "cell_type": "code",
   "execution_count": 19,
   "metadata": {
    "pycharm": {
     "name": "#%%\n"
    }
   },
   "outputs": [
    {
     "name": "stdout",
     "output_type": "stream",
     "text": [
      "[1 2 3]\n",
      "[[1 2 3]\n",
      " [4 5 6]]\n",
      "[1. 2. 3.]\n",
      "[1 2 3]\n",
      "[0 2 3]\n",
      "False\n"
     ]
    }
   ],
   "source": [
    "import numpy as np\n",
    "\n",
    "# 创建一个一维数组\n",
    "print(np.array([1, 2, 3]))\n",
    "\n",
    "# 创建一个二维数组\n",
    "print(np.array([[1, 2, 3], [4, 5, 6]]))\n",
    "\n",
    "# 创建时指定类型\n",
    "print(np.array([1, 2, 3], dtype='float64'))\n",
    "\n",
    "# 复制其他 arr，为 True 时是深拷贝\n",
    "n1 = np.array([1, 2, 3])\n",
    "n2 = np.array(n1, copy=True)\n",
    "n2[0] = 0\n",
    "print(n1)\n",
    "print(n2)\n",
    "print(n1 is n2)"
   ]
  },
  {
   "cell_type": "markdown",
   "metadata": {
    "pycharm": {
     "name": "#%% md\n"
    }
   },
   "source": [
    "## 基于其他函数创建"
   ]
  },
  {
   "cell_type": "code",
   "execution_count": 33,
   "metadata": {},
   "outputs": [
    {
     "name": "stdout",
     "output_type": "stream",
     "text": [
      "[[8 8]\n",
      " [8 8]]\n",
      "[[0 0]\n",
      " [0 0]]\n",
      "[[1 1]\n",
      " [1 1]]\n",
      "[[8 8]\n",
      " [8 8]]\n",
      "[0 1 2 3 4]\n",
      "[ 1  3  5  7  9 11]\n",
      "(array([1000, 2000, 3000, 4000, 5000]), 1000.0)\n",
      "[  1   2   4  10  23  52 115 256]\n"
     ]
    }
   ],
   "source": [
    "import numpy as np\n",
    "\n",
    "# empty 指定维度，数据自动初始化\n",
    "print(np.empty((2, 2), dtype=int))\n",
    "\n",
    "# zeros 以 0 填充\n",
    "print(np.zeros((2, 2), dtype=int))\n",
    "\n",
    "# ones 以 1 填充\n",
    "print(np.ones((2, 2), dtype=int))\n",
    "\n",
    "# full 指定值填充\n",
    "print(np.full((2, 2), 8))\n",
    "\n",
    "# arange 创建一维数组\n",
    "print(np.arange(5))\n",
    "\n",
    "# arange 创建二维数组 (起始值，终止值（不包含），步长)\n",
    "print(np.arange(1, 12, 2))\n",
    "\n",
    "# linspace 创建等差数列 (开始，结束，num= 样本数，endpoint=True 时包含结束值，retstep=True 显示等差的值，dtype 数据类型)\n",
    "print(np.linspace(1000, 5000, 5, endpoint=True, retstep=True, dtype=int))\n",
    "\n",
    "# logspace 创建等比数列 (开始，结束，num= 样本数，endpoint=True 时包含结束值，base= 对数 log 的底数，dtype 数据类型)\n",
    "print(np.logspace(0, 8, 8, endpoint=True, base=2, dtype='uint64'))"
   ]
  },
  {
   "cell_type": "markdown",
   "metadata": {},
   "source": [
    "## 基于 `random` 创建"
   ]
  },
  {
   "cell_type": "code",
   "execution_count": 39,
   "metadata": {},
   "outputs": [
    {
     "name": "stdout",
     "output_type": "stream",
     "text": [
      "[0.49933445 0.25789985 0.7709461  0.88632022 0.66079473]\n",
      "[[0.40549156 0.24371261]\n",
      " [0.76029083 0.75490587]]\n",
      "[0.36208055 0.75896354 0.50381058 0.36587041 0.85884969]\n",
      "[[1 4]\n",
      " [1 2]]\n",
      "[ 0.93761091 -0.61297726 -0.15666239 -0.16290555  0.67845923  1.51978211\n",
      " -0.15657815  0.58629744  1.37165846 -0.59374147]\n"
     ]
    }
   ],
   "source": [
    "import numpy as np\n",
    "\n",
    "# random 是 0 到 1 内的随机数，生成 1 维 5 个元素的数组\n",
    "print(np.random.rand(5))\n",
    "\n",
    "# rand 创建二维数组\n",
    "print(np.random.rand(2, 2))\n",
    "\n",
    "# randn 创建正态分布数组\n",
    "print(np.random.rand(5))\n",
    "\n",
    "# randint 指定 ([开始，结束)，shape)\n",
    "print(np.random.randint(1, 5, [2,2]))\n",
    "\n",
    "# normal 生成正态分布 (loc: 均值，scale：标准差， shape)\n",
    "print(np.random.normal(0, 1, 10))"
   ]
  },
  {
   "cell_type": "markdown",
   "metadata": {},
   "source": [
    "## 基于其它数组创建"
   ]
  },
  {
   "cell_type": "code",
   "execution_count": 44,
   "metadata": {},
   "outputs": [
    {
     "name": "stdout",
     "output_type": "stream",
     "text": [
      "[ 0  2  4  6  8 10 12 14 16 18]\n",
      "[b'h' b'e' b'l' b'l' b'o' b'w' b'o' b'r' b'l' b'd']\n",
      "[[6 6 6]\n",
      " [6 6 6]\n",
      " [6 6 6]]\n",
      "[[0 0 0]\n",
      " [0 0 0]\n",
      " [0 0 0]]\n",
      "[[1 1 1]\n",
      " [1 1 1]\n",
      " [1 1 1]]\n",
      "[[6 6 6]\n",
      " [6 6 6]\n",
      " [6 6 6]]\n"
     ]
    }
   ],
   "source": [
    "import numpy as np\n",
    "\n",
    "# fromiter(iter, dtype, count=-1 读取多少个元素) 用于从可迭代对象中创建\n",
    "iter = (x * 2 for x in range(10))\n",
    "print(np.fromiter(iter, dtype='int'))\n",
    "\n",
    "# frombuffer(buffer, dtype, count=-1, offset=0)：buffer 实现了 __buffer__ 的对象； count 读取多少数据；offset 从哪里开始读\n",
    "print(np.frombuffer(b'helloworld', dtype='S1'))\n",
    "\n",
    "# empty_like：创建一个给定数组和它相同维度和数据类型，并且未初始化的的数组\n",
    "# 注意：函数创建的数组中的元素值是未知的，并且会受到之前分配给该内存块的值的影响\n",
    "n1 = np.full((3, 3), 10)\n",
    "print(np.empty_like(n1, dtype='int8'))\n",
    "\n",
    "# zeros_like\n",
    "print(np.zeros_like(n1, dtype='int8'))\n",
    "\n",
    "# ones_like\n",
    "print(np.ones_like(n1, dtype='int8'))\n",
    "\n",
    "# full_like\n",
    "print(np.full_like(n1, 6, dtype='int8'))\n"
   ]
  },
  {
   "cell_type": "code",
   "execution_count": null,
   "metadata": {},
   "outputs": [],
   "source": []
  }
 ],
 "metadata": {
  "kernelspec": {
   "display_name": "Python 3 (ipykernel)",
   "language": "python",
   "name": "python3"
  },
  "language_info": {
   "codemirror_mode": {
    "name": "ipython",
    "version": 3
   },
   "file_extension": ".py",
   "mimetype": "text/x-python",
   "name": "python",
   "nbconvert_exporter": "python",
   "pygments_lexer": "ipython3",
   "version": "3.8.13"
  }
 },
 "nbformat": 4,
 "nbformat_minor": 1
}