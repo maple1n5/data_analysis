{
 "cells": [
  {
   "cell_type": "markdown",
   "metadata": {
    "collapsed": true,
    "pycharm": {
     "is_executing": true
    }
   },
   "source": [
    "# Numpy 处理函数"
   ]
  },
  {
   "cell_type": "markdown",
   "metadata": {},
   "source": [
    "## 数学运算"
   ]
  },
  {
   "cell_type": "code",
   "execution_count": 17,
   "metadata": {
    "pycharm": {
     "name": "#%%\n"
    }
   },
   "outputs": [
    {
     "name": "stdout",
     "output_type": "stream",
     "text": [
      "[[0 1 2]\n",
      " [3 4 5]\n",
      " [6 7 8]]\n",
      "[6 6 6]\n"
     ]
    }
   ],
   "source": [
    "import numpy as np\n",
    "\n",
    "n1 = np.arange(9).reshape(3, 3)\n",
    "n2 = np.full([3], 6)\n",
    "\n",
    "print(n1)\n",
    "print(n2)"
   ]
  },
  {
   "cell_type": "code",
   "execution_count": 4,
   "metadata": {},
   "outputs": [
    {
     "name": "stdout",
     "output_type": "stream",
     "text": [
      "[[ 6  7  8]\n",
      " [ 9 10 11]\n",
      " [12 13 14]]\n"
     ]
    }
   ],
   "source": [
    "print(np.add(n1, n2))"
   ]
  },
  {
   "cell_type": "code",
   "execution_count": 5,
   "metadata": {},
   "outputs": [
    {
     "name": "stdout",
     "output_type": "stream",
     "text": [
      "[[-6 -5 -4]\n",
      " [-3 -2 -1]\n",
      " [ 0  1  2]]\n"
     ]
    }
   ],
   "source": [
    "print(np.subtract(n1, n2))"
   ]
  },
  {
   "cell_type": "code",
   "execution_count": 18,
   "metadata": {},
   "outputs": [
    {
     "name": "stdout",
     "output_type": "stream",
     "text": [
      "[[ 0  6 12]\n",
      " [18 24 30]\n",
      " [36 42 48]]\n"
     ]
    }
   ],
   "source": [
    "print(np.multiply(n1, n2))"
   ]
  },
  {
   "cell_type": "code",
   "execution_count": 7,
   "metadata": {},
   "outputs": [
    {
     "name": "stdout",
     "output_type": "stream",
     "text": [
      "[[0.         0.16666667 0.33333333]\n",
      " [0.5        0.66666667 0.83333333]\n",
      " [1.         1.16666667 1.33333333]]\n"
     ]
    }
   ],
   "source": [
    "print(np.divide(n1, n2))"
   ]
  },
  {
   "cell_type": "code",
   "execution_count": 8,
   "metadata": {},
   "outputs": [
    {
     "name": "stdout",
     "output_type": "stream",
     "text": [
      "[0.16666667 0.16666667 0.16666667]\n"
     ]
    }
   ],
   "source": [
    "# 倒数 x => 1/x\n",
    "print(np.reciprocal(n2, dtype=float))"
   ]
  },
  {
   "cell_type": "code",
   "execution_count": 9,
   "metadata": {},
   "outputs": [
    {
     "name": "stdout",
     "output_type": "stream",
     "text": [
      "[216 216 216]\n"
     ]
    }
   ],
   "source": [
    "# 求幂 power\n",
    "print(np.power(n2, 3))"
   ]
  },
  {
   "cell_type": "code",
   "execution_count": 10,
   "metadata": {},
   "outputs": [
    {
     "name": "stdout",
     "output_type": "stream",
     "text": [
      "[0 0 0]\n"
     ]
    }
   ],
   "source": [
    "# 取余 mod\n",
    "print(np.mod(n2, 3))"
   ]
  },
  {
   "cell_type": "code",
   "execution_count": 11,
   "metadata": {},
   "outputs": [
    {
     "name": "stdout",
     "output_type": "stream",
     "text": [
      "[6.67 6.67 6.67]\n"
     ]
    }
   ],
   "source": [
    "# 四舍五入 round(a, decimals) ：decimals 保留位数\n",
    "n3 = np.full([3], 6.666)\n",
    "print(np.round(n3, 2))"
   ]
  },
  {
   "cell_type": "code",
   "execution_count": 12,
   "metadata": {},
   "outputs": [
    {
     "name": "stdout",
     "output_type": "stream",
     "text": [
      "[7. 7. 7.]\n"
     ]
    }
   ],
   "source": [
    "# 向上取整 ceil\n",
    "print(np.ceil(n3))"
   ]
  },
  {
   "cell_type": "code",
   "execution_count": 13,
   "metadata": {},
   "outputs": [
    {
     "name": "stdout",
     "output_type": "stream",
     "text": [
      "[6. 6. 6.]\n"
     ]
    }
   ],
   "source": [
    "# 向下取整 floor\n",
    "print(np.floor(n3))"
   ]
  },
  {
   "cell_type": "code",
   "execution_count": 14,
   "metadata": {},
   "outputs": [
    {
     "name": "stdout",
     "output_type": "stream",
     "text": [
      "[0.         0.5        0.70710678 0.8660254  1.        ]\n",
      "[1.00000000e+00 8.66025404e-01 7.07106781e-01 5.00000000e-01\n",
      " 6.12323400e-17]\n",
      "[0.00000000e+00 5.77350269e-01 1.00000000e+00 1.73205081e+00\n",
      " 1.63312394e+16]\n"
     ]
    }
   ],
   "source": [
    "# 三角函数\n",
    "n = np.array([0, 30, 45, 60, 90])\n",
    "print(np.sin(n * np.pi / 180))\n",
    "print(np.cos(n * np.pi / 180))\n",
    "print(np.tan(n * np.pi / 180))"
   ]
  },
  {
   "cell_type": "code",
   "execution_count": 15,
   "metadata": {},
   "outputs": [
    {
     "name": "stdout",
     "output_type": "stream",
     "text": [
      "[0.         0.52359878 0.78539816 1.04719755 1.57079633]\n",
      "[ 0. 30. 45. 60. 90.]\n"
     ]
    }
   ],
   "source": [
    "sin = np.sin(n * np.pi / 180)\n",
    "inv = np.arcsin(sin)\n",
    "print(inv)\n",
    "print(np.degrees(inv))"
   ]
  },
  {
   "cell_type": "markdown",
   "metadata": {},
   "source": [
    "## 聚合函数"
   ]
  },
  {
   "cell_type": "code",
   "execution_count": 28,
   "metadata": {},
   "outputs": [
    {
     "name": "stdout",
     "output_type": "stream",
     "text": [
      "[[1 2 3]\n",
      " [2 3 4]]\n"
     ]
    }
   ],
   "source": [
    "import numpy as np\n",
    "\n",
    "n0 = np.array([[1, 2, 3], [2, 3, 4]])\n",
    "print(n0)"
   ]
  },
  {
   "cell_type": "code",
   "execution_count": 20,
   "metadata": {},
   "outputs": [
    {
     "name": "stdout",
     "output_type": "stream",
     "text": [
      "15\n",
      "[3 5 7]\n",
      "[6 9]\n"
     ]
    }
   ],
   "source": [
    "print(n0.sum())\n",
    "print(n0.sum(axis=0))\n",
    "print(n0.sum(axis=1))"
   ]
  },
  {
   "cell_type": "code",
   "execution_count": 22,
   "metadata": {},
   "outputs": [
    {
     "name": "stdout",
     "output_type": "stream",
     "text": [
      "2.5\n",
      "[1.5 2.5 3.5]\n"
     ]
    }
   ],
   "source": [
    "print(n0.mean())\n",
    "print(n0.mean(axis=0))"
   ]
  },
  {
   "cell_type": "code",
   "execution_count": 23,
   "metadata": {},
   "outputs": [
    {
     "name": "stdout",
     "output_type": "stream",
     "text": [
      "4\n",
      "[2 3 4]\n"
     ]
    }
   ],
   "source": [
    "print(n0.max())\n",
    "print(n0.max(axis=0))"
   ]
  },
  {
   "cell_type": "code",
   "execution_count": 24,
   "metadata": {},
   "outputs": [
    {
     "name": "stdout",
     "output_type": "stream",
     "text": [
      "[1 2 3]\n"
     ]
    }
   ],
   "source": [
    "print(n0.min(axis=0))"
   ]
  },
  {
   "cell_type": "code",
   "execution_count": 25,
   "metadata": {},
   "outputs": [
    {
     "name": "stdout",
     "output_type": "stream",
     "text": [
      "81.0\n"
     ]
    }
   ],
   "source": [
    "# 加权平均数\n",
    "# 比如平均成绩为  70 80 90 ，每个成绩的权重值为 0.2 0.5 0.3，那么计算方法为  70*0.2 + 80*0.5 + 90*0.3= 81\n",
    "# 然后再拿 81 / (权重和 0.2 + 0.5 + 0.3) = 81，那么加权平均值为 81\n",
    "score = np.array([70, 80, 90])\n",
    "weight = np.array([0.2, 0.5, 0.3])\n",
    "print(np.average(score, weights=weight))"
   ]
  },
  {
   "cell_type": "code",
   "execution_count": 26,
   "metadata": {},
   "outputs": [
    {
     "name": "stdout",
     "output_type": "stream",
     "text": [
      "7.0\n"
     ]
    }
   ],
   "source": [
    "# 中位数\n",
    "nums = np.array([1, 2, 3, 4, 7, 11, 15, 17, 19])\n",
    "print(np.median(nums))"
   ]
  },
  {
   "cell_type": "code",
   "execution_count": 27,
   "metadata": {
    "scrolled": true
   },
   "outputs": [
    {
     "name": "stdout",
     "output_type": "stream",
     "text": [
      "42.39506172839506\n",
      "6.5111490328816055\n"
     ]
    }
   ],
   "source": [
    "# 方差\n",
    "print(np.var(nums))\n",
    "# 标准差\n",
    "print(np.std(nums))"
   ]
  },
  {
   "cell_type": "markdown",
   "metadata": {},
   "source": [
    "## 排序"
   ]
  },
  {
   "cell_type": "code",
   "execution_count": 33,
   "metadata": {},
   "outputs": [
    {
     "name": "stdout",
     "output_type": "stream",
     "text": [
      "[[4 1 3]\n",
      " [9 4 6]\n",
      " [7 2 3]]\n"
     ]
    }
   ],
   "source": [
    "import numpy as np\n",
    "\n",
    "n1 = np.array([[4, 1, 3], [9, 4, 6], [7, 2, 3]])\n",
    "\n",
    "print(n1)"
   ]
  },
  {
   "cell_type": "code",
   "execution_count": 30,
   "metadata": {},
   "outputs": [
    {
     "name": "stdout",
     "output_type": "stream",
     "text": [
      "[[1 3 4]\n",
      " [4 6 9]\n",
      " [2 3 7]]\n",
      "[[4 1 3]\n",
      " [7 2 3]\n",
      " [9 4 6]]\n",
      "[[1 3 4]\n",
      " [4 6 9]\n",
      " [2 3 7]]\n"
     ]
    }
   ],
   "source": [
    "print(np.sort(n1))\n",
    "print(np.sort(n1, axis=0))  # 按列排序\n",
    "print(np.sort(n1, axis=1))  # 按行排序"
   ]
  },
  {
   "cell_type": "code",
   "execution_count": 31,
   "metadata": {},
   "outputs": [
    {
     "name": "stdout",
     "output_type": "stream",
     "text": [
      "[1 3 2 5 4]\n",
      "[0 2 1 4 3]\n",
      "[1 2 3 4 5]\n"
     ]
    }
   ],
   "source": [
    "# argsort 返回数组从小到大排序的索引值\n",
    "n2 = np.array([1, 3, 2, 5, 4])\n",
    "sorted = np.argsort(n2)\n",
    "print(n2)\n",
    "print(sorted)\n",
    "print(n2[sorted])"
   ]
  },
  {
   "cell_type": "code",
   "execution_count": 32,
   "metadata": {},
   "outputs": [
    {
     "name": "stdout",
     "output_type": "stream",
     "text": [
      "排序后的索引值\n",
      "[4 5 3 2 0 1]\n",
      "通过排序后的索引获取排序后的数组：\n",
      "[[ 98 118 615]\n",
      " [109 118 615]\n",
      " [108 108 620]\n",
      " [118 115 620]\n",
      " [117 101 621]\n",
      " [105 109 623]]\n"
     ]
    }
   ],
   "source": [
    "# 某重点高中，精英班录取学生按照总成绩录取\n",
    "# 由于名额有限，因此当总成绩相同时，数学成绩高的优先录取\n",
    "# 当总成绩和数学成绩都相同时，按照英语成绩高的优先录取\n",
    "# 下面使用 lexsort() 函数对学生成绩进行排序，程序代码如下\n",
    "\n",
    "math = np.array([101, 109, 115, 108, 118, 118])\n",
    "en = np.array([117, 105, 118, 108, 98, 109])\n",
    "total = np.array([621, 623, 620, 620, 615, 615])\n",
    "sort_total = np.lexsort((en, math, total))\n",
    "print('排序后的索引值')\n",
    "print(sort_total)\n",
    "print('通过排序后的索引获取排序后的数组：')\n",
    "print(np.array([[en[i], math[i], total[i]] for i in sort_total]))"
   ]
  }
 ],
 "metadata": {
  "kernelspec": {
   "display_name": "Python 3 (ipykernel)",
   "language": "python",
   "name": "python3"
  },
  "language_info": {
   "codemirror_mode": {
    "name": "ipython",
    "version": 3
   },
   "file_extension": ".py",
   "mimetype": "text/x-python",
   "name": "python",
   "nbconvert_exporter": "python",
   "pygments_lexer": "ipython3",
   "version": "3.8.13"
  }
 },
 "nbformat": 4,
 "nbformat_minor": 1
}